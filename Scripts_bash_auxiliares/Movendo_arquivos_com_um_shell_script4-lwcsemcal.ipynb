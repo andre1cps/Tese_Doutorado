{
 "cells": [
  {
   "cell_type": "code",
   "execution_count": 1,
   "metadata": {},
   "outputs": [],
   "source": [
    "import os\n",
    "import glob\n",
    "import shutil"
   ]
  },
  {
   "cell_type": "code",
   "execution_count": 2,
   "metadata": {},
   "outputs": [],
   "source": [
    "############# Movendo os integrados:\n",
    "### Origens:\n",
    "origem_limpos = '/home/andre/libRadtran-2.0.4/copias_inps_limpos-final/'\n",
    "origem_poluidos = '/home/andre/libRadtran-2.0.4/copias_inps_poluidos-final/'\n",
    "origem_trans2 = '/home/andre/libRadtran-2.0.4/copias_inps_trans2-final/'\n",
    "origem_trans3 = '/home/andre/libRadtran-2.0.4/copias_inps_trans3-final/'\n",
    "origem_trans4 = '/home/andre/libRadtran-2.0.4/copias_inps_trans4-final/'\n",
    "\n",
    "### Destinos:\n",
    "destino_limpos = '/home/andre/libRadtran-2.0.4/codigos_doutorado/outs_integrate_final/limpo/'\n",
    "destino_poluidos = '/home/andre/libRadtran-2.0.4/codigos_doutorado/outs_integrate_final/poluido/'\n",
    "destino_trans2 = '/home/andre/libRadtran-2.0.4/codigos_doutorado/outs_integrate_final/trans2/'\n",
    "destino_trans3 = '/home/andre/libRadtran-2.0.4/codigos_doutorado/outs_integrate_final/trans3/'\n",
    "destino_trans4 = '/home/andre/libRadtran-2.0.4/codigos_doutorado/outs_integrate_final/trans4/'"
   ]
  },
  {
   "cell_type": "code",
   "execution_count": 3,
   "metadata": {},
   "outputs": [],
   "source": [
    "# ############### Movendo os espectros:\n",
    "# ### Origens:\n",
    "# origem_limpos = '/home/andre/libRadtran-2.0.4/cc_inps_espectros_limpos-final/'\n",
    "# origem_poluidos = '/home/andre/libRadtran-2.0.4/cc_inps_espectros_poluidos-final/'\n",
    "# origem_trans2 = '/home/andre/libRadtran-2.0.4/cc_inps_espectros_trans2-final/'\n",
    "# origem_trans3 = '/home/andre/libRadtran-2.0.4/cc_inps_espectros_trans3-final/'\n",
    "# origem_trans4 = '/home/andre/libRadtran-2.0.4/cc_inps_espectros_trans4-final/'\n",
    "\n",
    "# ### Destinos:\n",
    "# destino_limpos = '/home/andre/libRadtran-2.0.4/codigos_doutorado/outs_espectros_final/limpo/'\n",
    "# destino_poluidos = '/home/andre/libRadtran-2.0.4/codigos_doutorado/outs_espectros_final/poluido/'\n",
    "# destino_trans2 = '/home/andre/libRadtran-2.0.4/codigos_doutorado/outs_espectros_final/trans2/'\n",
    "# destino_trans3 = '/home/andre/libRadtran-2.0.4/codigos_doutorado/outs_espectros_final/trans3/'\n",
    "# destino_trans4 = '/home/andre/libRadtran-2.0.4/codigos_doutorado/outs_espectros_final/trans4/'"
   ]
  },
  {
   "cell_type": "code",
   "execution_count": 4,
   "metadata": {},
   "outputs": [],
   "source": [
    "### Movendo todos os arquivos .out do periodo limpo:\n",
    "arqsl = sorted(glob.glob(origem_limpos+'*.out'))\n",
    "# arqsl\n",
    "for l in range(len(arqsl)):\n",
    "    os.system('mv %s %s' % (arqsl[l], destino_limpos))"
   ]
  },
  {
   "cell_type": "code",
   "execution_count": 5,
   "metadata": {},
   "outputs": [],
   "source": [
    "### Movendo todos os arquivos .out do periodo poluido:\n",
    "arqsp = sorted(glob.glob(origem_poluidos+'*.out'))\n",
    "# arqsp\n",
    "for p in range(len(arqsp)):\n",
    "    os.system('mv %s %s' % (arqsp[p], destino_poluidos))"
   ]
  },
  {
   "cell_type": "code",
   "execution_count": 6,
   "metadata": {},
   "outputs": [],
   "source": [
    "### Movendo todos os arquivos .out do periodo trans2:\n",
    "arqst2 = sorted(glob.glob(origem_trans2+'*.out'))\n",
    "for t2 in range(len(arqst2)):\n",
    "    os.system('mv %s %s' % (arqst2[t2], destino_trans2))"
   ]
  },
  {
   "cell_type": "code",
   "execution_count": 7,
   "metadata": {},
   "outputs": [],
   "source": [
    "### Movendo todos os arquivos .out do periodo trans3:\n",
    "arqst3 = sorted(glob.glob(origem_trans3+'*.out'))\n",
    "for t3 in range(len(arqst3)):\n",
    "    os.system('mv %s %s' % (arqst3[t3], destino_trans3))"
   ]
  },
  {
   "cell_type": "code",
   "execution_count": 8,
   "metadata": {},
   "outputs": [],
   "source": [
    "### Movendo todos os arquivos .out do periodo trans4:\n",
    "arqst4 = sorted(glob.glob(origem_trans4+'*.out'))\n",
    "for t4 in range(len(arqst4)):\n",
    "    os.system('mv %s %s' % (arqst4[t4], destino_trans4))"
   ]
  },
  {
   "cell_type": "code",
   "execution_count": 9,
   "metadata": {},
   "outputs": [],
   "source": [
    "# ### Apagando todos os arquivos:\n",
    "# for p in range(len(arquivo)):\n",
    "#     os.system('rm %s' % (arquivo[p]))"
   ]
  },
  {
   "cell_type": "code",
   "execution_count": null,
   "metadata": {
    "collapsed": true
   },
   "outputs": [],
   "source": []
  }
 ],
 "metadata": {
  "kernelspec": {
   "display_name": "Python 3 (ipykernel)",
   "language": "python",
   "name": "python3"
  },
  "language_info": {
   "codemirror_mode": {
    "name": "ipython",
    "version": 3
   },
   "file_extension": ".py",
   "mimetype": "text/x-python",
   "name": "python",
   "nbconvert_exporter": "python",
   "pygments_lexer": "ipython3",
   "version": "3.9.5"
  }
 },
 "nbformat": 4,
 "nbformat_minor": 2
}
