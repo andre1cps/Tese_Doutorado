{
 "cells": [
  {
   "cell_type": "code",
   "execution_count": 1,
   "metadata": {},
   "outputs": [],
   "source": [
    "import os\n",
    "import glob\n",
    "import shutil"
   ]
  },
  {
   "cell_type": "code",
   "execution_count": 2,
   "metadata": {},
   "outputs": [],
   "source": [
    "############# Movendo os integrados:\n",
    "### Origens:\n",
    "origem_limpos = '/home/andre/libRadtran-2.0.4/copias_inps_limpos-final-2015/'\n",
    "origem_poluidos = '/home/andre/libRadtran-2.0.4/copias_inps_poluidos-final-2015/'\n",
    "origem_trans1 = '/home/andre/libRadtran-2.0.4/copias_inps_trans1-final-2015/'\n",
    "\n",
    "### Destinos:\n",
    "destino_limpos = '/home/andre/libRadtran-2.0.4/codigos_doutorado/outs_integrate_final-2015/limpo/'\n",
    "destino_poluidos = '/home/andre/libRadtran-2.0.4/codigos_doutorado/outs_integrate_final-2015/poluido/'\n",
    "destino_trans1 = '/home/andre/libRadtran-2.0.4/codigos_doutorado/outs_integrate_final-2015/trans1/'"
   ]
  },
  {
   "cell_type": "code",
   "execution_count": 3,
   "metadata": {},
   "outputs": [],
   "source": [
    "# # ############### Movendo os espectros:\n",
    "# # ### Origens:\n",
    "# origem_limpos = '/home/andre/libRadtran-2.0.4/cc_inps_espectros_limpos-final-2015/'\n",
    "# origem_poluidos = '/home/andre/libRadtran-2.0.4/cc_inps_espectros_poluidos-final-2015/'\n",
    "# origem_trans1 = '/home/andre/libRadtran-2.0.4/cc_inps_espectros_trans1-final-2015/'\n",
    "\n",
    "# # ### Destinos:\n",
    "# destino_limpos = '/home/andre/libRadtran-2.0.4/codigos_doutorado/outs_espectros_final-2015/limpo/'\n",
    "# destino_poluidos = '/home/andre/libRadtran-2.0.4/codigos_doutorado/outs_espectros_final-2015/poluido/'\n",
    "# destino_trans1 = '/home/andre/libRadtran-2.0.4/codigos_doutorado/outs_espectros_final-2015/trans1/'"
   ]
  },
  {
   "cell_type": "code",
   "execution_count": 4,
   "metadata": {},
   "outputs": [],
   "source": [
    "### Movendo todos os arquivos .out do periodo limpo:\n",
    "arqsl = sorted(glob.glob(origem_limpos+'*.out'))\n",
    "# arqsl\n",
    "for l in range(len(arqsl)):\n",
    "    os.system('mv %s %s' % (arqsl[l], destino_limpos))"
   ]
  },
  {
   "cell_type": "code",
   "execution_count": 5,
   "metadata": {},
   "outputs": [],
   "source": [
    "### Movendo todos os arquivos .out do periodo poluido:\n",
    "arqsp = sorted(glob.glob(origem_poluidos+'*.out'))\n",
    "# arqsp\n",
    "for p in range(len(arqsp)):\n",
    "    os.system('mv %s %s' % (arqsp[p], destino_poluidos))"
   ]
  },
  {
   "cell_type": "code",
   "execution_count": 6,
   "metadata": {},
   "outputs": [],
   "source": [
    "### Movendo todos os arquivos .out do periodo trans1:\n",
    "arqst1 = sorted(glob.glob(origem_trans1+'*.out'))\n",
    "for t1 in range(len(arqst1)):\n",
    "    os.system('mv %s %s' % (arqst1[t1], destino_trans1))"
   ]
  },
  {
   "cell_type": "code",
   "execution_count": 13,
   "metadata": {},
   "outputs": [],
   "source": [
    "# ### Apagando todos os arquivos:\n",
    "# for p in range(len(arquivo)):\n",
    "#     os.system('rm %s' % (arquivo[p]))"
   ]
  },
  {
   "cell_type": "code",
   "execution_count": null,
   "metadata": {
    "collapsed": true
   },
   "outputs": [],
   "source": []
  }
 ],
 "metadata": {
  "kernelspec": {
   "display_name": "Python 3 (ipykernel)",
   "language": "python",
   "name": "python3"
  },
  "language_info": {
   "codemirror_mode": {
    "name": "ipython",
    "version": 3
   },
   "file_extension": ".py",
   "mimetype": "text/x-python",
   "name": "python",
   "nbconvert_exporter": "python",
   "pygments_lexer": "ipython3",
   "version": "3.9.5"
  }
 },
 "nbformat": 4,
 "nbformat_minor": 2
}
