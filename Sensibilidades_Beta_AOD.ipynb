{
 "cells": [
  {
   "cell_type": "code",
   "execution_count": 48,
   "id": "91cbac6e",
   "metadata": {},
   "outputs": [],
   "source": [
    "import numpy as np\n",
    "import pandas as pd\n",
    "import math\n",
    "from datetime import datetime\n",
    "import seaborn as sns\n",
    "import matplotlib.pyplot as plt\n",
    "import matplotlib.ticker as ticker\n",
    "\n",
    "from warnings import simplefilter\n",
    "simplefilter(action=\"ignore\", category=pd.errors.PerformanceWarning)"
   ]
  },
  {
   "cell_type": "code",
   "execution_count": 49,
   "id": "bf5f5f8d",
   "metadata": {},
   "outputs": [],
   "source": [
    "pasta = '/mnt/HD_500GB_WD/00_Doutorado/Codigos_Notebooks_Medias_Resample/Dataframes_Media1m/'\n",
    "\n",
    "### Abrindo os .pkl com medias 1min:\n",
    "### Propriedades ópticas:\n",
    "Bs_550_1 = pd.read_pickle(pasta+'1ogrenM1_Bs_G_Dry_1um_Neph3W_1_df_T_dias_raw_1m.pkl')\n",
    "aod = pd.read_pickle(pasta+'AOD_AERONET_processado.pkl')"
   ]
  },
  {
   "cell_type": "code",
   "execution_count": 50,
   "id": "644f6c5a",
   "metadata": {},
   "outputs": [],
   "source": [
    "datasets = [Bs_550_1, aod]\n",
    "nomes = ['Bs_550_1', 'AOD']\n",
    "labels = [u'$\\\\beta$$_e$$_s$$_p$$_.$', 'AOD']"
   ]
  },
  {
   "cell_type": "code",
   "execution_count": 51,
   "id": "40bd4811",
   "metadata": {},
   "outputs": [],
   "source": [
    "### Função para padronizar o formato do índice (minutos) e das datas nas colunas (padrão: 'DD/MM/AAAA'):\n",
    "def padroniza_datas(df):\n",
    "    mins = np.arange(0, 1440, 1)\n",
    "    datas = list(df.columns)\n",
    "    datas_arrumadas = []\n",
    "    for dia in datas:\n",
    "        if len(dia)==10:\n",
    "            datas_arrumadas.append(dia)\n",
    "        elif len(dia)==8:\n",
    "            ltemp = []\n",
    "            for c in dia:\n",
    "                ltemp.append(c)\n",
    "            ltemp.insert(0,'0')\n",
    "            ltemp.insert(3,'0')\n",
    "            datas_arrumadas.append(''.join(ltemp))\n",
    "        elif len(dia)==9 and dia[1]=='/':\n",
    "            ltemp = []\n",
    "            for c in dia:\n",
    "                ltemp.append(c)\n",
    "            ltemp.insert(0,'0')\n",
    "            datas_arrumadas.append(''.join(ltemp))\n",
    "        elif len(dia)==9 and dia[1]!='/':\n",
    "            ltemp = []\n",
    "            for c in dia:\n",
    "                ltemp.append(c)\n",
    "            ltemp.insert(3,'0')\n",
    "            datas_arrumadas.append(''.join(ltemp))\n",
    "    df.columns = datas_arrumadas\n",
    "    df.index = mins\n",
    "    df.index.name = \"tempo\"\n",
    "    df.columns.name = \"dias\"\n",
    "    \n",
    "### Chamando a função padroniza_datas:\n",
    "for ds, nome in zip(datasets, nomes):\n",
    "    padroniza_datas(ds)"
   ]
  },
  {
   "cell_type": "code",
   "execution_count": 52,
   "id": "e72f50b5",
   "metadata": {},
   "outputs": [],
   "source": [
    "### Função que constrói o dataframe com as datas do GoAmazon (01/01/14 a 31/12/15) cheio de NaN's. Depois disso\n",
    "### insere os dias de 2014 e de 2015 faltantes nos dataframes que contém as estatísticas dos dados:\n",
    "def completa_dias_goamazon(df):\n",
    "    days = pd.date_range(start=\"2014-01-01\", end='2015-12-31',freq='D').strftime('%d/%m/%Y')\n",
    "    mins = np.arange(0, 1440, 1)\n",
    "    df_nans = pd.DataFrame(columns=days, index=mins)    \n",
    "    booleanos = []\n",
    "    for dia in list(df_nans.columns):\n",
    "        booleanos.append(dia in list(df.columns))\n",
    "    for i in range(len(booleanos)):\n",
    "        if booleanos[i] == True:     # Há dados neste dia\n",
    "            pass\n",
    "        elif booleanos[i] == False:  # Não há dados neste dia\n",
    "            df.insert(i, column=df_nans.columns[i], value=df_nans.T.iloc[i].values)"
   ]
  },
  {
   "cell_type": "code",
   "execution_count": 53,
   "id": "42e7c7a2",
   "metadata": {},
   "outputs": [
    {
     "name": "stdout",
     "output_type": "stream",
     "text": [
      "730\n",
      "730\n"
     ]
    }
   ],
   "source": [
    "### Chamando a função:\n",
    "for ds, nome in zip(datasets, nomes):\n",
    "    completa_dias_goamazon(ds)\n",
    "    \n",
    "print(len(datasets[0].T))\n",
    "print(len(datasets[1].T))"
   ]
  },
  {
   "cell_type": "code",
   "execution_count": 54,
   "id": "c613bde7",
   "metadata": {},
   "outputs": [
    {
     "name": "stdout",
     "output_type": "stream",
     "text": [
      "0.06876418421052631\n",
      "0.2017999444444444\n"
     ]
    }
   ],
   "source": [
    "### Média Referências - Beta:\n",
    "# Limpo:\n",
    "limp = ['11/02/2014','17/02/2014','23/02/2014','24/02/2014',\n",
    "        '26/02/2014','28/02/2014','02/03/2014','06/03/2014',\n",
    "        '07/03/2014','08/03/2014','12/03/2014','20/03/2014',\n",
    "        '21/03/2014','22/03/2014','25/03/2014','28/03/2014',\n",
    "        '25/02/2015', '03/05/2015', '04/05/2015']\n",
    "# listona = []\n",
    "# selec = datasets[0][limp]\n",
    "# for col in selec.columns:\n",
    "#     for v in selec[col]:\n",
    "#         listona.append(v)\n",
    "# mean_ref_limpo_beta = np.nanmean(listona)\n",
    "# print(mean_ref_limpo_beta)\n",
    "\n",
    "# # Poluído:\n",
    "# listona = []\n",
    "# selec = datasets[0][['11/09/2014', '28/09/2014']]\n",
    "# for col in selec.columns:\n",
    "#     for v in selec[col]:\n",
    "#         listona.append(v)\n",
    "# mean_ref_pol_beta = np.nanmean(listona)\n",
    "# print(mean_ref_pol_beta)\n",
    "\n",
    "#########################################################\n",
    "### Média Referências - AOD AERONET:\n",
    "# Limpo:\n",
    "listona = []\n",
    "selec = datasets[1][limp]\n",
    "for col in selec.columns:\n",
    "    for v in selec[col]:\n",
    "        listona.append(v)\n",
    "mean_ref_limpo_aod = np.nanmean(listona)\n",
    "print(mean_ref_limpo_aod)\n",
    "\n",
    "# Poluído:\n",
    "listona = []\n",
    "selec = datasets[1][['11/09/2014', '28/09/2014']]\n",
    "for col in selec.columns:\n",
    "    for v in selec[col]:\n",
    "        listona.append(v)\n",
    "mean_ref_pol_aod = np.nanmean(listona)\n",
    "print(mean_ref_pol_aod)"
   ]
  },
  {
   "cell_type": "code",
   "execution_count": 55,
   "id": "740aa093",
   "metadata": {},
   "outputs": [
    {
     "name": "stdout",
     "output_type": "stream",
     "text": [
      "0.09026209311740893\n",
      "0.27754531418918926\n"
     ]
    }
   ],
   "source": [
    "# ### Média Períodos 2014 - Beta:\n",
    "# # Limpo:\n",
    "# listona = []\n",
    "# selec = datasets[0].T[10:90]\n",
    "# for col in selec.columns:\n",
    "#     for v in selec[col]:\n",
    "#         listona.append(v)\n",
    "# mean_limpo14_beta = np.nanmean(listona)\n",
    "# print(mean_limpo14_beta)\n",
    "# # Poluído:\n",
    "# listona1 = []\n",
    "# listona2 = []\n",
    "# selec1 = datasets[0].T[210:277]\n",
    "# selec2 = datasets[0].T[300:345]\n",
    "# for col in selec1.columns:\n",
    "#     for v in selec1[col]:\n",
    "#         listona1.append(v)\n",
    "# for col in selec2.columns:\n",
    "#     for v in selec2[col]:\n",
    "#         listona2.append(v)\n",
    "# listona = listona1+listona2\n",
    "# mean_pol14_beta = np.nanmean(listona)\n",
    "# print(mean_pol14_beta)\n",
    "\n",
    "### Média Períodos 2014 - AOD AERONET:\n",
    "# Limpo:\n",
    "listona = []\n",
    "selec = datasets[1].T[10:90]\n",
    "for col in selec.columns:\n",
    "    for v in selec[col]:\n",
    "        listona.append(v)\n",
    "mean_limpo14_aod = np.nanmean(listona)\n",
    "print(mean_limpo14_aod)\n",
    "# Poluído:\n",
    "listona1 = []\n",
    "listona2 = []\n",
    "selec1 = datasets[1].T[210:277]\n",
    "selec2 = datasets[1].T[300:345]\n",
    "for col in selec1.columns:\n",
    "    for v in selec1[col]:\n",
    "        listona1.append(v)\n",
    "for col in selec2.columns:\n",
    "    for v in selec2[col]:\n",
    "        listona2.append(v)\n",
    "listona = listona1+listona2\n",
    "mean_pol14_aod = np.nanmean(listona)\n",
    "print(mean_pol14_aod)"
   ]
  },
  {
   "cell_type": "code",
   "execution_count": 56,
   "id": "637a616c",
   "metadata": {},
   "outputs": [],
   "source": [
    "# ### Variação percentual limpo Beta 2014:\n",
    "# print(((mean_limpo14_beta - mean_ref_limpo_beta)/mean_ref_limpo_beta)*100)\n",
    "\n",
    "# ### Variação percentual poluido Beta 2014:\n",
    "# print(((mean_pol14_beta - mean_ref_pol_beta)/mean_ref_pol_beta)*100)"
   ]
  },
  {
   "cell_type": "code",
   "execution_count": 57,
   "id": "aacddbc3",
   "metadata": {},
   "outputs": [
    {
     "name": "stdout",
     "output_type": "stream",
     "text": [
      "31.263235583607425\n",
      "37.5348813664305\n"
     ]
    }
   ],
   "source": [
    "### Variação percentual limpo AOD 2014:\n",
    "print(((mean_limpo14_aod - mean_ref_limpo_aod)/mean_ref_limpo_aod)*100)\n",
    "\n",
    "### Variação percentual poluido AOD 2014:\n",
    "print(((mean_pol14_aod - mean_ref_pol_aod)/mean_ref_pol_aod)*100)"
   ]
  },
  {
   "cell_type": "code",
   "execution_count": 58,
   "id": "fe6a4299",
   "metadata": {},
   "outputs": [
    {
     "name": "stdout",
     "output_type": "stream",
     "text": [
      "0.12122865497604636\n",
      "0.04076208434132319\n"
     ]
    }
   ],
   "source": [
    "### Sensibilidade AOD limpo 14 = Média da IRF_diária/VPA_limpo_AOD:\n",
    "print(3.79/31.263235583607425)\n",
    "\n",
    "### Sensibilidade AOD pol 14 = Média da IRF_diária/VPA_pol_AOD:\n",
    "print(1.53/37.5348813664305)"
   ]
  },
  {
   "cell_type": "code",
   "execution_count": 59,
   "id": "81897c39",
   "metadata": {},
   "outputs": [],
   "source": [
    "##################################################"
   ]
  },
  {
   "cell_type": "code",
   "execution_count": 60,
   "id": "be902685",
   "metadata": {},
   "outputs": [
    {
     "name": "stdout",
     "output_type": "stream",
     "text": [
      "0.1245338613138686\n",
      "0.5873089475524476\n"
     ]
    }
   ],
   "source": [
    "### Média Períodos 2015 - AOD AERONET:\n",
    "corte15 = datasets[1].T[365:].T\n",
    "# Limpo:\n",
    "listona = []\n",
    "selec = corte15.T[0:210]\n",
    "for col in selec.columns:\n",
    "    for v in selec[col]:\n",
    "        listona.append(v)\n",
    "mean_limpo15_aod = np.nanmean(listona)\n",
    "print(mean_limpo15_aod)\n",
    "# Poluído:\n",
    "listona = []\n",
    "selec = corte15.T[265:335]\n",
    "for col in selec.columns:\n",
    "    for v in selec[col]:\n",
    "        listona.append(v)\n",
    "mean_pol15_aod = np.nanmean(listona)\n",
    "print(mean_pol15_aod)"
   ]
  },
  {
   "cell_type": "code",
   "execution_count": 61,
   "id": "af7de4a1",
   "metadata": {},
   "outputs": [
    {
     "name": "stdout",
     "output_type": "stream",
     "text": [
      "81.10279754443033\n",
      "191.0352374820073\n"
     ]
    }
   ],
   "source": [
    "### Variação percentual limpo AOD 2015:\n",
    "print(((mean_limpo15_aod - mean_ref_limpo_aod)/mean_ref_limpo_aod)*100)\n",
    "\n",
    "### Variação percentual poluido AOD 2015:\n",
    "print(((mean_pol15_aod - mean_ref_pol_aod)/mean_ref_pol_aod)*100)"
   ]
  },
  {
   "cell_type": "code",
   "execution_count": 62,
   "id": "19256dc3",
   "metadata": {},
   "outputs": [
    {
     "name": "stdout",
     "output_type": "stream",
     "text": [
      "0.013439733683697757\n",
      "0.004135362723719525\n"
     ]
    }
   ],
   "source": [
    "### Sensibilidade AOD limpo 15 = Média da IRF_diária/VPA_limpo_AOD:\n",
    "print(1.09/81.10279754443033)\n",
    "\n",
    "### Sensibilidade AOD pol 15 = Média da IRF_diária/VPA_pol_AOD:\n",
    "print(0.79/191.0352374820073)"
   ]
  },
  {
   "cell_type": "code",
   "execution_count": null,
   "id": "12a197e5",
   "metadata": {},
   "outputs": [],
   "source": []
  }
 ],
 "metadata": {
  "kernelspec": {
   "display_name": "Python 3 (ipykernel)",
   "language": "python",
   "name": "python3"
  },
  "language_info": {
   "codemirror_mode": {
    "name": "ipython",
    "version": 3
   },
   "file_extension": ".py",
   "mimetype": "text/x-python",
   "name": "python",
   "nbconvert_exporter": "python",
   "pygments_lexer": "ipython3",
   "version": "3.9.5"
  }
 },
 "nbformat": 4,
 "nbformat_minor": 5
}
