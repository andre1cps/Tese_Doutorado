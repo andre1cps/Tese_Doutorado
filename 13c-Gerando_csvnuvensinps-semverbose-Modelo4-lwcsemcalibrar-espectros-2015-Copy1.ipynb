{
 "cells": [
  {
   "cell_type": "code",
   "execution_count": 2,
   "id": "47b8ab21",
   "metadata": {},
   "outputs": [],
   "source": [
    "import os\n",
    "import glob\n",
    "import math\n",
    "import numpy as np\n",
    "import pandas as pd\n",
    "import xarray as xr\n",
    "\n",
    "import seaborn as sns\n",
    "import matplotlib.pyplot as plt"
   ]
  },
  {
   "cell_type": "code",
   "execution_count": 3,
   "id": "537ea8b5",
   "metadata": {},
   "outputs": [],
   "source": [
    "pastal = '/mnt/HD_500GB_WD/historia2/Tabelas_passo9/comtr-medianas-2015-final/limpos/'\n",
    "pastap = '/mnt/HD_500GB_WD/historia2/Tabelas_passo9/comtr-medianas-2015-final/poluidos/'\n",
    "pastat1 = '/mnt/HD_500GB_WD/historia2/Tabelas_passo9/comtr-medianas-2015-final/trans1/'"
   ]
  },
  {
   "cell_type": "code",
   "execution_count": 4,
   "id": "9e8f1fec",
   "metadata": {},
   "outputs": [],
   "source": [
    "dfsl = []\n",
    "arquivos_l = sorted(glob.glob(pastal+'df_nuvenspasso9_??_limpa_??_??_2015.pkl'))\n",
    "for j in range(len(arquivos_l)):\n",
    "    n = arquivos_l[j].split('/')[-1].split('_')[-3]+'/'+arquivos_l[j].split('/')[-1].split('_')[-2]\n",
    "    df = pd.read_pickle(arquivos_l[j])\n",
    "    dfsl.append(df)"
   ]
  },
  {
   "cell_type": "code",
   "execution_count": 5,
   "id": "5e8232c4",
   "metadata": {},
   "outputs": [],
   "source": [
    "dfsp = []\n",
    "arquivos_p = sorted(glob.glob(pastap+'df_nuvenspasso9_??_poluida_??_??_2015.pkl'))\n",
    "for i in range(len(arquivos_p)):\n",
    "    m = arquivos_p[i].split('/')[-1].split('_')[-3]+'/'+arquivos_p[i].split('/')[-1].split('_')[-2]\n",
    "    df = pd.read_pickle(arquivos_p[i])\n",
    "    dfsp.append(df)"
   ]
  },
  {
   "cell_type": "code",
   "execution_count": 6,
   "id": "4603919f",
   "metadata": {},
   "outputs": [],
   "source": [
    "dfst1 = []\n",
    "arquivos_t1 = sorted(glob.glob(pastat1+'df_nuvenspasso9_??_trans1_??_??_2015.pkl'))\n",
    "for j in range(len(arquivos_t1)):\n",
    "    n = arquivos_t1[j].split('/')[-1].split('_')[-3]+'/'+arquivos_t1[j].split('/')[-1].split('_')[-2]\n",
    "    df = pd.read_pickle(arquivos_t1[j])\n",
    "    dfst1.append(df)"
   ]
  },
  {
   "cell_type": "code",
   "execution_count": 7,
   "id": "b0fe330b",
   "metadata": {},
   "outputs": [],
   "source": [
    "#######################################################################"
   ]
  },
  {
   "cell_type": "code",
   "execution_count": 8,
   "id": "156455be",
   "metadata": {},
   "outputs": [],
   "source": [
    "###################### MODELO 4 - Nuvens com 2 camadas, com o topo=percentil87.5(cth), a base=percentil12.5(cbh), \n",
    "###################### o meio=[base+((topo-base)/2)], lwctopo=percentil87.5(lwc),\n",
    "###################### lwcbase=percentil12.5(lwc), lwcmeio=mediana(lwc) e a mesma \n",
    "###################### configuração para o reff. Aqui é gerado um dataframe para cada dia:\n",
    "def lista_nuvens_modelo5(lista_com_dfs):\n",
    "    dfs_rad = []\n",
    "    for df in lista_com_dfs:\n",
    "        stratus = df[(df['lwc']>=0.2) & (df['lwc']<=0.4) & (df['cth']<=3000.0)]\n",
    "        if len(stratus) == 0:\n",
    "#             print('0 stratus')\n",
    "            pass\n",
    "        elif len(stratus) == 1:\n",
    "#             print('1 stratus')\n",
    "            topo = stratus['cth']/1000\n",
    "            base = stratus['cbh']/1000\n",
    "            meio = base+((topo-base)/2)\n",
    "            h = [float(math.ceil(topo)), float(topo), float(meio), float(base), float(math.floor(base))]\n",
    "            dia = list(stratus['dia'])*5\n",
    "            lwc = list(stratus['lwc'])*3\n",
    "            ref = list(stratus['reff'])*3\n",
    "            lwc.insert(0, 0.0)\n",
    "            lwc.insert(4, 0.0)\n",
    "            ref.insert(0, 0.0)\n",
    "            ref.insert(4, 0.0)\n",
    "            dic = {'dia':dia, 'z':h, 'LWC':lwc, 'R_eff':ref}\n",
    "            df = pd.DataFrame(dic)\n",
    "            dfs_rad.append(df)\n",
    "        elif len(stratus) > 1:\n",
    "#             print('mais de 1 stratus')\n",
    "            dia = [stratus['dia'].iloc[0]]*5\n",
    "            ztopo = np.percentile(stratus['cth']/1000, q=87.5)\n",
    "            zbase = np.percentile(stratus['cbh']/1000, q=12.5)\n",
    "            zmeio = zbase+((ztopo-zbase)/2)\n",
    "            h = [float(math.ceil(ztopo)), float(ztopo), float(zmeio), float(zbase), float(math.floor(zbase))]\n",
    "            stats = stratus.describe()\n",
    "            lwctopo = np.percentile(stratus['lwc'], q=87.5)\n",
    "            lwcmeio = stats['lwc'].loc['50%']\n",
    "            lwcbase = np.percentile(stratus['lwc'], q=12.5)\n",
    "            lwc = [0.0, lwctopo, lwcmeio, lwcbase, 0.0]\n",
    "            reftopo = np.percentile(stratus['reff'], q=87.5)\n",
    "            refmeio = stats['reff'].loc['50%']\n",
    "            refbase = np.percentile(stratus['reff'], q=12.5)\n",
    "            ref = [0.0, reftopo, refmeio, refbase, 0.0]\n",
    "            dic = {'dia':dia, 'z':h, 'LWC':lwc, 'R_eff':ref}\n",
    "            df = pd.DataFrame(dic)\n",
    "            dfs_rad.append(df)\n",
    "    return dfs_rad"
   ]
  },
  {
   "cell_type": "code",
   "execution_count": 9,
   "id": "378a627e",
   "metadata": {},
   "outputs": [],
   "source": [
    "dfs_limpa_rad = lista_nuvens_modelo5(dfsl)\n",
    "dfs_poluida_rad = lista_nuvens_modelo5(dfsp)\n",
    "dfs_trans1_rad = lista_nuvens_modelo5(dfst1)"
   ]
  },
  {
   "cell_type": "code",
   "execution_count": 10,
   "id": "5cf29044",
   "metadata": {},
   "outputs": [],
   "source": [
    "###############################################################################"
   ]
  },
  {
   "cell_type": "code",
   "execution_count": 11,
   "id": "3b037998",
   "metadata": {},
   "outputs": [],
   "source": [
    "horaUTC = ' 16 00 00'"
   ]
  },
  {
   "cell_type": "code",
   "execution_count": 12,
   "id": "f1ddf376",
   "metadata": {},
   "outputs": [],
   "source": [
    "### Para o período limpo guardando as strings com os \"times\" dos dias e as strings com os nomes dos \n",
    "### arquivos de nuvens já da maneira que o LibRadtran pede: \n",
    "pasta_nuvens_stratus_modelo4 = '/home/andre/libRadtran-2.0.4/codigos_doutorado/nuvens4_lwcsemcal-2015_FINAIS/limpos/'\n",
    "timesl, indexesl = [], []\n",
    "for i, df in enumerate(dfs_limpa_rad):\n",
    "    dian = df['dia'][0]\n",
    "    day = dian.split('/')[0]\n",
    "    m = dian.split('/')[1]\n",
    "    if i < 10:\n",
    "        idx = '000{0}'.format(i)\n",
    "    elif (i>=10) and (i<100):\n",
    "        idx = '00{0}'.format(i)\n",
    "    elif (i>=100) and (i<1000):\n",
    "        idx = '0{0}'.format(i)\n",
    "    elif i>=1000:\n",
    "        idx = '{0}'.format(i)\n",
    "    time = 'time 2015 '+m+' '+day+horaUTC+'\\n'\n",
    "    timesl.append(time)\n",
    "    index = 'wc_file 1D '+pasta_nuvens_stratus_modelo4+'stratus_{0}_limpa_{1}_{2}_2015.csv\\n'.format(idx,day,m)\n",
    "    indexesl.append(index)\n",
    "#     print(index)"
   ]
  },
  {
   "cell_type": "code",
   "execution_count": 13,
   "id": "38865ac8",
   "metadata": {},
   "outputs": [],
   "source": [
    "### Para o período poluído guardando as strings com os \"times\" dos dias e as strings com os nomes dos \n",
    "### arquivos de nuvens já da maneira que o LibRadtran pede:\n",
    "pasta_nuvens_stratus_modelo4 = '/home/andre/libRadtran-2.0.4/codigos_doutorado/nuvens4_lwcsemcal-2015_FINAIS/poluidos/'\n",
    "timesp, indexesp = [], []\n",
    "for i, df in enumerate(dfs_poluida_rad):\n",
    "    dian = df['dia'][0]\n",
    "    day = dian.split('/')[0]\n",
    "    m = dian.split('/')[1]\n",
    "    if i < 10:\n",
    "        idx = '000{0}'.format(i)\n",
    "    elif (i>=10) and (i<100):\n",
    "        idx = '00{0}'.format(i)\n",
    "    elif (i>=100) and (i<1000):\n",
    "        idx = '0{0}'.format(i)\n",
    "    elif i>=1000:\n",
    "        idx = '{0}'.format(i)\n",
    "    time = 'time 2015 '+m+' '+day+horaUTC+'\\n'\n",
    "    timesp.append(time)\n",
    "    index = 'wc_file 1D '+pasta_nuvens_stratus_modelo4+'stratus_{0}_poluida_{1}_{2}_2015.csv\\n'.format(idx,day,m)\n",
    "    indexesp.append(index)"
   ]
  },
  {
   "cell_type": "code",
   "execution_count": 14,
   "id": "268ab5ca",
   "metadata": {},
   "outputs": [],
   "source": [
    "### Para o período trans1 guardando as strings com os \"times\" dos dias e as strings com os nomes dos \n",
    "### arquivos de nuvens já da maneira que o LibRadtran pede: \n",
    "pasta_nuvens_stratus_modelo4 = '/home/andre/libRadtran-2.0.4/codigos_doutorado/nuvens4_lwcsemcal-2015_FINAIS/trans1/'\n",
    "timest1, indexest1 = [], []\n",
    "for i, df in enumerate(dfs_trans1_rad):\n",
    "    dian = df['dia'][0]\n",
    "    day = dian.split('/')[0]\n",
    "    m = dian.split('/')[1]\n",
    "    if i < 10:\n",
    "        idx = '000{0}'.format(i)\n",
    "    elif (i>=10) and (i<100):\n",
    "        idx = '00{0}'.format(i)\n",
    "    elif (i>=100) and (i<1000):\n",
    "        idx = '0{0}'.format(i)\n",
    "    elif i>=1000:\n",
    "        idx = '{0}'.format(i)\n",
    "    time = 'time 2015 '+m+' '+day+horaUTC+'\\n'\n",
    "    timest1.append(time)\n",
    "    index = 'wc_file 1D '+pasta_nuvens_stratus_modelo4+'stratus_{0}_trans1_{1}_{2}_2015.csv\\n'.format(idx,day,m)\n",
    "    indexest1.append(index)"
   ]
  },
  {
   "cell_type": "code",
   "execution_count": 15,
   "id": "ef5883ec",
   "metadata": {},
   "outputs": [],
   "source": [
    "###############################################################################"
   ]
  },
  {
   "cell_type": "code",
   "execution_count": 18,
   "id": "47e0fea0",
   "metadata": {},
   "outputs": [],
   "source": [
    "### Strings que devem entrar nos arquivos \".inp\" que serão usados para fazer as simulações:\n",
    "strings = ['####################_ATMOSFERA_####################\\n', \n",
    "           'atmosphere_file ../data/atmmod/afglt.dat\\n',\n",
    "           '####################_ESPECTRO_####################\\n',\n",
    "           'source solar ../data/solar_flux/kurudz_0.1nm.dat\\n',\n",
    "           'mol_abs_param reptran medium\\n',\n",
    "           'rte_solver disort\\n',\n",
    "           'number_of_streams  16\\n',\n",
    "           'wavelength 300.0 1000.0\\n',\n",
    "           '####################_LOCAL_DE_ESTUDO_####################\\n',\n",
    "           'altitude 0.05\\n',\n",
    "           'longitude W 60 35 55\\n',         \n",
    "           'latitude S 03 12 47.82\\n',\n",
    "           'time 2015 02 22 16 00 00\\n',\n",
    "           'zout TOA\\n',\n",
    "           'albedo 0.14\\n',   \n",
    "           '####################_NUVENS_####################\\n',\n",
    "           'wc_file 1D /home/andre/libRadtran-2.0.4/codigos/nuvens_stratus_modelo3/limpos/stratus_0000_limpa_18_02_2014.csv\\n',\n",
    "           'cloud_overlap off\\n',\n",
    "           'cloudcover wc 1\\n',\n",
    "           '####################_GASES_####################\\n',\n",
    "           'mol_file N2O ../data/atmmod/afglt_n2o_vmr.csv vmr\\n',\n",
    "           'mol_file CH4 ../data/atmmod/afglt_ch4_vmr.csv vmr\\n',\n",
    "           'mol_file CO ../data/atmmod/afglt_co_vmr.csv vmr\\n',\n",
    "           'mixing_ratio CO2 397.0\\n',\n",
    "           '####################_OUTPUTS_####################\\n',\n",
    "           'output_user lambda zout albedo T T_sur TCC sza edir eup\\n',\n",
    "           'quiet\\n']\n",
    "opcionais = ['output_user lambda zout albedo T T_sur TCC sza edir eup\\n', 'output_process integrate\\n',\n",
    "             'verbose\\n']"
   ]
  },
  {
   "cell_type": "code",
   "execution_count": 19,
   "id": "accb6b44",
   "metadata": {},
   "outputs": [],
   "source": [
    "### Pasta onde vou gravar os \".inp\" para fazer as simulações no LibRadtran:\n",
    "pasta_imports_limpa = '/home/andre/libRadtran-2.0.4/cc_inps_espectros_limpos-final-2015/'\n",
    "pasta_imports_poluida = '/home/andre/libRadtran-2.0.4/cc_inps_espectros_poluidos-final-2015/'\n",
    "pasta_imports_trans1 = '/home/andre/libRadtran-2.0.4/cc_inps_espectros_trans1-final-2015/'"
   ]
  },
  {
   "cell_type": "code",
   "execution_count": 20,
   "id": "eecabf21",
   "metadata": {},
   "outputs": [],
   "source": [
    "### Gravando os \".inp\" dos dias de nuvens limpas:\n",
    "for k in range(len(indexesl)):\n",
    "    n = indexesl[k].split('/')[-1].split('.')[0].split('stratus_')[1]\n",
    "    arquivo = open(pasta_imports_limpa+'import_{0}.inp'.format(n), 'w')\n",
    "    for i in range(len(strings)):\n",
    "        if (i<12):\n",
    "            arquivo.write(strings[i])\n",
    "        elif i==12:\n",
    "            arquivo.write(timesl[k])\n",
    "        elif (i>12) and (i<16):\n",
    "            arquivo.write(strings[i])\n",
    "        elif i==16:\n",
    "            arquivo.write(indexesl[k])\n",
    "        else:\n",
    "            arquivo.write(strings[i])\n",
    "    arquivo.close()"
   ]
  },
  {
   "cell_type": "code",
   "execution_count": 21,
   "id": "66a48c21",
   "metadata": {},
   "outputs": [],
   "source": [
    "### Gravando os \".inp\" dos dias de nuvens poluidas:\n",
    "for j in range(len(indexesp)):\n",
    "    n = indexesp[j].split('/')[-1].split('.')[0].split('stratus_')[1]\n",
    "    arquivo = open(pasta_imports_poluida+'import_{0}.inp'.format(n), 'w')\n",
    "    for i in range(len(strings)):\n",
    "        if (i<12):\n",
    "            arquivo.write(strings[i])\n",
    "        elif i==12:\n",
    "            arquivo.write(timesp[j])\n",
    "        elif (i>12) and (i<16):\n",
    "            arquivo.write(strings[i])\n",
    "        elif i==16:\n",
    "            arquivo.write(indexesp[j])\n",
    "        else:\n",
    "            arquivo.write(strings[i])\n",
    "    arquivo.close()"
   ]
  },
  {
   "cell_type": "code",
   "execution_count": 22,
   "id": "e0aa463d",
   "metadata": {},
   "outputs": [],
   "source": [
    "### Gravando os \".inp\" dos dias de nuvens trans1:\n",
    "for k in range(len(indexest1)):\n",
    "    n = indexest1[k].split('/')[-1].split('.')[0].split('stratus_')[1]\n",
    "    arquivo = open(pasta_imports_trans1+'import_{0}.inp'.format(n), 'w')\n",
    "    for i in range(len(strings)):\n",
    "        if (i<12):\n",
    "            arquivo.write(strings[i])\n",
    "        elif i==12:\n",
    "            arquivo.write(timest1[k])\n",
    "        elif (i>12) and (i<16):\n",
    "            arquivo.write(strings[i])\n",
    "        elif i==16:\n",
    "            arquivo.write(indexest1[k])\n",
    "        else:\n",
    "            arquivo.write(strings[i])\n",
    "    arquivo.close()"
   ]
  },
  {
   "cell_type": "code",
   "execution_count": null,
   "id": "d46c916e",
   "metadata": {},
   "outputs": [],
   "source": []
  },
  {
   "cell_type": "code",
   "execution_count": null,
   "id": "aac7b5d8",
   "metadata": {},
   "outputs": [],
   "source": []
  }
 ],
 "metadata": {
  "kernelspec": {
   "display_name": "Python 3 (ipykernel)",
   "language": "python",
   "name": "python3"
  },
  "language_info": {
   "codemirror_mode": {
    "name": "ipython",
    "version": 3
   },
   "file_extension": ".py",
   "mimetype": "text/x-python",
   "name": "python",
   "nbconvert_exporter": "python",
   "pygments_lexer": "ipython3",
   "version": "3.9.5"
  }
 },
 "nbformat": 4,
 "nbformat_minor": 5
}
